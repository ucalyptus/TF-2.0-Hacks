{
  "nbformat": 4,
  "nbformat_minor": 0,
  "metadata": {
    "kernelspec": {
      "name": "python3",
      "display_name": "Python 3"
    },
    "language_info": {
      "codemirror_mode": {
        "name": "ipython",
        "version": 3
      },
      "file_extension": ".py",
      "mimetype": "text/x-python",
      "name": "python",
      "nbconvert_exporter": "python",
      "pygments_lexer": "ipython3",
      "version": "3.5.3"
    },
    "colab": {
      "name": "Demo_tensorboard.ipynb",
      "provenance": [],
      "collapsed_sections": []
    },
    "accelerator": "GPU"
  },
  "cells": [
    {
      "cell_type": "code",
      "metadata": {
        "id": "Z5ZHrNOX6F8g",
        "colab_type": "code",
        "outputId": "3790fe51-2ce7-4473-fbfc-1493a87a3e83",
        "colab": {
          "base_uri": "https://localhost:8080/",
          "height": 34
        }
      },
      "source": [
        "# Select TensorFlow 2.0\n",
        "%tensorflow_version 2.x"
      ],
      "execution_count": 0,
      "outputs": [
        {
          "output_type": "stream",
          "text": [
            "TensorFlow 2.x selected.\n"
          ],
          "name": "stdout"
        }
      ]
    },
    {
      "cell_type": "code",
      "metadata": {
        "id": "JiQDKKao6KoO",
        "colab_type": "code",
        "colab": {}
      },
      "source": [
        "# Install Weights and Biases\n",
        "!pip install wandb"
      ],
      "execution_count": 0,
      "outputs": []
    },
    {
      "cell_type": "code",
      "metadata": {
        "id": "2xKhB06-6DSB",
        "colab_type": "code",
        "colab": {}
      },
      "source": [
        "# Imports\n",
        "from tensorflow.keras.datasets import fashion_mnist\n",
        "from tensorflow.keras.models import Sequential\n",
        "from tensorflow.keras.layers import Conv2D, MaxPooling2D, Dropout, Dense, Flatten\n",
        "from tensorflow.keras import utils\n",
        "from tensorflow.keras.optimizers import SGD\n",
        "from tensorflow.keras.callbacks import TensorBoard\n",
        "\n",
        "import wandb\n",
        "from wandb.keras import WandbCallback"
      ],
      "execution_count": 0,
      "outputs": []
    },
    {
      "cell_type": "code",
      "metadata": {
        "id": "WrOqgXc16Pki",
        "colab_type": "code",
        "colab": {}
      },
      "source": [
        "# Login to your W&B account\n",
        "!wandb login"
      ],
      "execution_count": 0,
      "outputs": []
    },
    {
      "cell_type": "code",
      "metadata": {
        "id": "rDUf-OBO6DSG",
        "colab_type": "code",
        "colab": {}
      },
      "source": [
        "# Initialize your W&B project allowing it to sync with TensorBoard\n",
        "wandb.init(project=\"tensorboard-integration\", sync_tensorboard=True)\n",
        "config = wandb.config"
      ],
      "execution_count": 0,
      "outputs": []
    },
    {
      "cell_type": "code",
      "metadata": {
        "id": "6uBarjh76DSL",
        "colab_type": "code",
        "colab": {}
      },
      "source": [
        "# Specify the configuration variables\n",
        "config.dropout = 0.2\n",
        "config.hidden_layer_size = 128\n",
        "config.layer_1_size  = 16\n",
        "config.layer_2_size = 32\n",
        "config.learn_rate = 0.01\n",
        "config.decay = 1e-6\n",
        "config.momentum = 0.9\n",
        "config.epochs = 25"
      ],
      "execution_count": 0,
      "outputs": []
    },
    {
      "cell_type": "code",
      "metadata": {
        "id": "9dFCHnAO6DSO",
        "colab_type": "code",
        "outputId": "c9f4e8f3-98d5-4d05-bccc-6785ed87e11c",
        "colab": {
          "base_uri": "https://localhost:8080/",
          "height": 153
        }
      },
      "source": [
        "# Load and preprocess the data\n",
        "(X_train, y_train), (X_test, y_test) = fashion_mnist.load_data()\n",
        "labels=[\"T-shirt/top\",\"Trouser\",\"Pullover\",\"Dress\",\"Coat\",\n",
        "        \"Sandal\",\"Shirt\",\"Sneaker\",\"Bag\",\"Ankle boot\"]\n",
        "\n",
        "img_width=28\n",
        "img_height=28\n",
        "\n",
        "X_train = X_train.astype('float32')\n",
        "X_train /= 255.\n",
        "X_test = X_test.astype('float32')\n",
        "X_test /= 255.\n",
        "\n",
        "# Reshape input data\n",
        "X_train = X_train.reshape(X_train.shape[0], img_width, img_height, 1)\n",
        "X_test = X_test.reshape(X_test.shape[0], img_width, img_height, 1)\n",
        "\n",
        "# One hot encode outputs\n",
        "y_train = utils.to_categorical(y_train)\n",
        "y_test = utils.to_categorical(y_test)\n",
        "num_classes = y_test.shape[1]"
      ],
      "execution_count": 0,
      "outputs": [
        {
          "output_type": "stream",
          "text": [
            "Downloading data from https://storage.googleapis.com/tensorflow/tf-keras-datasets/train-labels-idx1-ubyte.gz\n",
            "32768/29515 [=================================] - 0s 0us/step\n",
            "Downloading data from https://storage.googleapis.com/tensorflow/tf-keras-datasets/train-images-idx3-ubyte.gz\n",
            "26427392/26421880 [==============================] - 0s 0us/step\n",
            "Downloading data from https://storage.googleapis.com/tensorflow/tf-keras-datasets/t10k-labels-idx1-ubyte.gz\n",
            "8192/5148 [===============================================] - 0s 0us/step\n",
            "Downloading data from https://storage.googleapis.com/tensorflow/tf-keras-datasets/t10k-images-idx3-ubyte.gz\n",
            "4423680/4422102 [==============================] - 0s 0us/step\n"
          ],
          "name": "stdout"
        }
      ]
    },
    {
      "cell_type": "code",
      "metadata": {
        "id": "0s5c6sIW6DSQ",
        "colab_type": "code",
        "outputId": "db0346e9-3bea-4c96-ebcf-34bb7f88f4db",
        "colab": {
          "base_uri": "https://localhost:8080/",
          "height": 901
        }
      },
      "source": [
        "# Train the model\n",
        "sgd = SGD(lr=config.learn_rate, decay=config.decay, momentum=config.momentum,\n",
        "                            nesterov=True)\n",
        "\n",
        "model = Sequential()\n",
        "model.add(Conv2D(config.layer_1_size, (5, 5), activation='relu',\n",
        "                            input_shape=(img_width, img_height,1)))\n",
        "model.add(MaxPooling2D(pool_size=(2, 2)))\n",
        "model.add(Conv2D(config.layer_2_size, (5, 5), activation='relu'))\n",
        "model.add(MaxPooling2D(pool_size=(2, 2)))\n",
        "model.add(Dropout(config.dropout))\n",
        "model.add(Flatten())\n",
        "model.add(Dense(config.hidden_layer_size, activation='relu'))\n",
        "model.add(Dense(num_classes, activation='softmax'))\n",
        "\n",
        "model.compile(loss='categorical_crossentropy', optimizer=sgd, metrics=['accuracy'])\n",
        "\n",
        "# The WandbCallback logs metrics and some examples of the test data\n",
        "model.fit(X_train, y_train,  validation_data=(X_test, y_test), epochs=config.epochs,\n",
        "    callbacks=[WandbCallback(data_type=\"image\", labels=labels), \n",
        "               TensorBoard(log_dir=wandb.run.dir)])"
      ],
      "execution_count": 0,
      "outputs": [
        {
          "output_type": "stream",
          "text": [
            "Train on 60000 samples, validate on 10000 samples\n",
            "Epoch 1/25\n",
            "60000/60000 [==============================] - 40s 664us/sample - loss: 0.5759 - accuracy: 0.7878 - val_loss: 0.3768 - val_accuracy: 0.8607\n",
            "Epoch 2/25\n",
            "60000/60000 [==============================] - 37s 615us/sample - loss: 0.3774 - accuracy: 0.8621 - val_loss: 0.3495 - val_accuracy: 0.8723\n",
            "Epoch 3/25\n",
            "60000/60000 [==============================] - 37s 612us/sample - loss: 0.3355 - accuracy: 0.8769 - val_loss: 0.3151 - val_accuracy: 0.8856\n",
            "Epoch 4/25\n",
            "60000/60000 [==============================] - 35s 585us/sample - loss: 0.3108 - accuracy: 0.8855 - val_loss: 0.2991 - val_accuracy: 0.8926\n",
            "Epoch 5/25\n",
            "60000/60000 [==============================] - 35s 579us/sample - loss: 0.2919 - accuracy: 0.8911 - val_loss: 0.3040 - val_accuracy: 0.8926\n",
            "Epoch 6/25\n",
            "60000/60000 [==============================] - 35s 579us/sample - loss: 0.2787 - accuracy: 0.8956 - val_loss: 0.2912 - val_accuracy: 0.8924\n",
            "Epoch 7/25\n",
            "60000/60000 [==============================] - 34s 569us/sample - loss: 0.2657 - accuracy: 0.9009 - val_loss: 0.2867 - val_accuracy: 0.8960\n",
            "Epoch 8/25\n",
            "60000/60000 [==============================] - 34s 560us/sample - loss: 0.2570 - accuracy: 0.9051 - val_loss: 0.2841 - val_accuracy: 0.8952\n",
            "Epoch 9/25\n",
            "60000/60000 [==============================] - 33s 555us/sample - loss: 0.2480 - accuracy: 0.9062 - val_loss: 0.2764 - val_accuracy: 0.8987\n",
            "Epoch 10/25\n",
            "60000/60000 [==============================] - 33s 558us/sample - loss: 0.2400 - accuracy: 0.9100 - val_loss: 0.2718 - val_accuracy: 0.9009\n",
            "Epoch 11/25\n",
            "60000/60000 [==============================] - 35s 586us/sample - loss: 0.2309 - accuracy: 0.9129 - val_loss: 0.2867 - val_accuracy: 0.8951\n",
            "Epoch 12/25\n",
            "60000/60000 [==============================] - 36s 593us/sample - loss: 0.2236 - accuracy: 0.9154 - val_loss: 0.2721 - val_accuracy: 0.9005\n",
            "Epoch 13/25\n",
            "60000/60000 [==============================] - 35s 584us/sample - loss: 0.2202 - accuracy: 0.9177 - val_loss: 0.2767 - val_accuracy: 0.9006\n",
            "Epoch 14/25\n",
            "60000/60000 [==============================] - 35s 591us/sample - loss: 0.2132 - accuracy: 0.9186 - val_loss: 0.2727 - val_accuracy: 0.9009\n",
            "Epoch 15/25\n",
            "60000/60000 [==============================] - 36s 599us/sample - loss: 0.2081 - accuracy: 0.9218 - val_loss: 0.2683 - val_accuracy: 0.9001\n",
            "Epoch 16/25\n",
            "60000/60000 [==============================] - 35s 583us/sample - loss: 0.2005 - accuracy: 0.9252 - val_loss: 0.2738 - val_accuracy: 0.9077\n",
            "Epoch 17/25\n",
            "60000/60000 [==============================] - 37s 617us/sample - loss: 0.1995 - accuracy: 0.9254 - val_loss: 0.2710 - val_accuracy: 0.9028\n",
            "Epoch 18/25\n",
            "60000/60000 [==============================] - 37s 623us/sample - loss: 0.1920 - accuracy: 0.9272 - val_loss: 0.2753 - val_accuracy: 0.9036\n",
            "Epoch 19/25\n",
            "60000/60000 [==============================] - 36s 604us/sample - loss: 0.1931 - accuracy: 0.9273 - val_loss: 0.2679 - val_accuracy: 0.9054\n",
            "Epoch 20/25\n",
            "60000/60000 [==============================] - 36s 605us/sample - loss: 0.1852 - accuracy: 0.9290 - val_loss: 0.2765 - val_accuracy: 0.9054\n",
            "Epoch 21/25\n",
            "60000/60000 [==============================] - 36s 603us/sample - loss: 0.1803 - accuracy: 0.9320 - val_loss: 0.2618 - val_accuracy: 0.9078\n",
            "Epoch 22/25\n",
            "60000/60000 [==============================] - 36s 601us/sample - loss: 0.1776 - accuracy: 0.9329 - val_loss: 0.2788 - val_accuracy: 0.9040\n",
            "Epoch 23/25\n",
            "60000/60000 [==============================] - 35s 589us/sample - loss: 0.1747 - accuracy: 0.9337 - val_loss: 0.2751 - val_accuracy: 0.9063\n",
            "Epoch 24/25\n",
            "60000/60000 [==============================] - 35s 580us/sample - loss: 0.1728 - accuracy: 0.9359 - val_loss: 0.2704 - val_accuracy: 0.9066\n",
            "Epoch 25/25\n",
            "60000/60000 [==============================] - 34s 574us/sample - loss: 0.1715 - accuracy: 0.9338 - val_loss: 0.2828 - val_accuracy: 0.9021\n"
          ],
          "name": "stdout"
        },
        {
          "output_type": "execute_result",
          "data": {
            "text/plain": [
              "<tensorflow.python.keras.callbacks.History at 0x7fcfd8078f98>"
            ]
          },
          "metadata": {
            "tags": []
          },
          "execution_count": 8
        }
      ]
    },
    {
      "cell_type": "markdown",
      "metadata": {
        "id": "qveZwzeS_t4B",
        "colab_type": "text"
      },
      "source": [
        "Run page: https://app.wandb.ai/sayakpaul/tensorboard-integration/runs/e8kv5zab"
      ]
    }
  ]
}